{
 "cells": [
  {
   "cell_type": "markdown",
   "metadata": {},
   "source": [
    "# Without numba.jit(median_filter)"
   ]
  },
  {
   "cell_type": "code",
   "execution_count": 1,
   "metadata": {},
   "outputs": [],
   "source": [
    "import cv2, matplotlib, scipy.ndimage\n",
    "import numpy as np\n",
    "import numpy.linalg as npMat\n",
    "import matplotlib.pyplot as plt\n",
    "\n",
    "import sys, os, time\n",
    "\n",
    "import hw1, hw2"
   ]
  },
  {
   "cell_type": "code",
   "execution_count": 2,
   "metadata": {},
   "outputs": [],
   "source": [
    "datasetConfig = {1: 10, 3: 10, 4: 10, 5: 10, 6: 10, 7: 10, 8: 10, 9: 10, 10: 10,\n",
    "    11: 10, 12: 10, 13: 10, 15: 10, 16: 10, 17: 10, 18: 10, 22: 10, 23: 10,\n",
    "    24: 10, 25: 10, 26: 10, 27: 10}\n",
    "hw2Config = {0: lambda x: x, 1: hw2.median_filter, 2: lambda x: hw2.liner_filter(x, hw2.mean_filter_generator(3)), \n",
    "    3: lambda x: hw2.liner_filter(x, hw2.gaussian_filter_generator(3, 1.5))}\n",
    "\n",
    "def read_from_dataset(hw1Var = 1, hw2Var = 1) -> list:\n",
    "    '''This function implements read process, and process data with colorspace transform and filter.\n",
    "\n",
    "    hw1Var 0=rgb, 1=weighted_mean_grey, 2=mean_grey, 3=max_grey\n",
    "\n",
    "    hw2Var 0=no_change, 1=median_filter, 2=mean_filter(3*3), 3=gaussian_filter(3*3, 1.5)\n",
    "\n",
    "    ret list(np.array)\n",
    "\n",
    "    in case of \n",
    "    '''\n",
    "    imReturn = []\n",
    "    imShapeReturn = []\n",
    "    for i, jlim in datasetConfig.items():\n",
    "        imAll = None\n",
    "        for j in range(1, jlim + 1):\n",
    "            try:\n",
    "                imFile = './dataset/s{}/s{}_{}.jpg'.format(i, i, j)\n",
    "                imMatrix = cv2.imread(imFile)\n",
    "                imMatrix = hw1.colorSpaceMatrix(BGR = imMatrix).space[hw1Var] # default: Convert to Grey with weighted mean.\n",
    "                imMatrix = hw2Config[hw2Var](imMatrix) # default: With the process of Median Filter\n",
    "                if isinstance(imAll, np.ndarray):\n",
    "                    try:\n",
    "                        imAll = np.append(imAll, [imMatrix], axis=0)\n",
    "                    except ValueError:\n",
    "                        print(\"[INFO] Append Error when i = {}, j = {}.\".format(i, j)) # e.g.image's height and width isn't identical to the first one.\n",
    "                else:\n",
    "                    imAll = np.array([imMatrix])\n",
    "            except Exception as e:\n",
    "                print(\"[INFO] {} Error when i = {}, j = {}\".format(e, i, j))\n",
    "        # TIP not implemented in matlab\n",
    "        imShapeReturn.append([imAll.shape[1], imAll.shape[2]])\n",
    "        imAll.resize((imAll.shape[0], imAll.shape[1] * imAll.shape[2])) # shrink dimension, see doc for reasons\n",
    "        imReturn.append(imAll)\n",
    "    return imReturn, imShapeReturn"
   ]
  },
  {
   "cell_type": "code",
   "execution_count": 3,
   "metadata": {},
   "outputs": [
    {
     "name": "stdout",
     "output_type": "stream",
     "text": [
      "18min 51s ± 1min per loop (mean ± std. dev. of 7 runs, 1 loop each)\n"
     ]
    }
   ],
   "source": [
    "%timeit read_from_dataset()\n",
    "im, imShape = read_from_dataset()\n",
    "print(imShape)"
   ]
  }
 ],
 "metadata": {
  "interpreter": {
   "hash": "d7a7489a0cd2d737d7c20ef7d2d4b7577de6ecf4606875733e42b2dbe55d45fe"
  },
  "kernelspec": {
   "display_name": "Python 3.10.0 64-bit (system)",
   "language": "python",
   "name": "python3"
  },
  "language_info": {
   "codemirror_mode": {
    "name": "ipython",
    "version": 3
   },
   "file_extension": ".py",
   "mimetype": "text/x-python",
   "name": "python",
   "nbconvert_exporter": "python",
   "pygments_lexer": "ipython3",
   "version": "3.9.9"
  },
  "orig_nbformat": 4
 },
 "nbformat": 4,
 "nbformat_minor": 2
}
