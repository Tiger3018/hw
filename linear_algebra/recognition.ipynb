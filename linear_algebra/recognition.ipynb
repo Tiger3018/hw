{
 "cells": [
  {
   "cell_type": "code",
   "execution_count": 1,
   "metadata": {},
   "outputs": [],
   "source": [
    "import cv2, matplotlib, scipy.ndimage\n",
    "import numpy as np\n",
    "import numpy.linalg as npMat\n",
    "import matplotlib.pyplot as plt\n",
    "import ipyfilechooser\n",
    "import ipywidgets as widgets\n",
    "from IPython.display import display\n",
    "\n",
    "import sys, os, time\n"
   ]
  },
  {
   "cell_type": "markdown",
   "metadata": {},
   "source": [
    "# Visualization\n",
    "\n",
    "The data should be saved in a general form (like `xml` or `panda binary file`), but there we use separate csv file instead (where shape is `600 * 400`).\n",
    "\n",
    "Make sure that `kernel.csv`, `result.csv` is placed under the same folder of the notebook. "
   ]
  },
  {
   "cell_type": "code",
   "execution_count": 2,
   "metadata": {},
   "outputs": [
    {
     "data": {
      "application/vnd.jupyter.widget-view+json": {
       "model_id": "e2009599ff0a4e03bc32185e9503ac37",
       "version_major": 2,
       "version_minor": 0
      },
      "text/plain": [
       "HBox(children=(IntSlider(value=20, description='Which eigenvector?', max=219), Text(value='cubehelix', descrip…"
      ]
     },
     "metadata": {},
     "output_type": "display_data"
    },
    {
     "data": {
      "application/vnd.jupyter.widget-view+json": {
       "model_id": "a3c0b05dfadf4a6293caf0c5d8a2f2f7",
       "version_major": 2,
       "version_minor": 0
      },
      "text/plain": [
       "Output()"
      ]
     },
     "metadata": {},
     "output_type": "display_data"
    }
   ],
   "source": [
    "# shapeOriginal = [602, 402]  # identical to kernel.csv's original shape. now in \"utils.csv\"\n",
    "kernel = np.load(\"kernel.npy\") # 读取二进制 变换矩阵数据\n",
    "result = np.loadtxt(\"result.csv\", delimiter=',') # 读取降维后数据\n",
    "utils = np.loadtxt(\"utils.csv\", delimiter=',', dtype=np.uint) # 读取辅助数据\n",
    "\n",
    "contrast = np.load(\"kernel.unmedian.npy\") # read another data to compare.\n",
    "\n",
    "def imshowShape(xDimension, cmapString = \"cubehelix\"):\n",
    "    plt.figure(figsize=(10, 7.5))\n",
    "\n",
    "    # https://matplotlib.org/stable/tutorials/colors/colorbar_only.html and https://stackoverflow.com/questions/16595138/standalone-colorbar-matplotlib\n",
    "    plt.subplot(2, 1, 1) # horizontal plot area for colorbar\n",
    "    plt.gca().set_visible(False) # ADD to ANY empty plot figure to omit empty output\n",
    "    plt.colorbar(plt.cm.ScalarMappable(cmap=plt.get_cmap(cmapString)), orientation = \"horizontal\")\n",
    "\n",
    "    plt.subplot(2, 2, 3) # area for kernel/Transformation matrix\n",
    "    plt.imshow(kernel[:, xDimension].reshape((utils[0, 1], utils[0, 2])), cmap=plt.get_cmap(cmapString))\n",
    "\n",
    "    plt.subplot(2, 2, 4) # area for compare data\n",
    "    # plt.gca().set_visible(False) # ADD to ANY empty plot figure to omit empty output\n",
    "    plt.imshow(contrast[:, xDimension].reshape((600, 400)), cmap=plt.get_cmap(cmapString))\n",
    "\n",
    "ui0_0 = widgets.IntSlider(min=0, max=220 - 1, step=1, value=20, description=\"Which eigenvector?\")\n",
    "ui0_1 = widgets.Text(value=\"cubehelix\", description=\"Color Map:\")\n",
    "ui0 = widgets.HBox([ui0_0, ui0_1])\n",
    "output0 = widgets.interactive_output(imshowShape, {'xDimension': ui0_0, 'cmapString': ui0_1})\n",
    "display(ui0, output0) # See <https://ipywidgets.readthedocs.io/en/latest/examples/Using%20Interact.html#More-control-over-the-user-interface:-interactive_output>"
   ]
  },
  {
   "cell_type": "markdown",
   "metadata": {},
   "source": [
    "# Classifier\n"
   ]
  },
  {
   "cell_type": "code",
   "execution_count": 3,
   "metadata": {},
   "outputs": [],
   "source": [
    "def cropTestMatrix(imageMatrix):\n",
    "    cv2.resize(imageMatrix)\n",
    "    pass\n",
    "\n",
    "\n",
    "def readFromPath(pathFromWidgets):\n",
    "    pass\n",
    "\n",
    "\n",
    "def readFromWebCallback(rawRtcStream):\n",
    "    pass\n"
   ]
  },
  {
   "cell_type": "markdown",
   "metadata": {},
   "source": [
    "# Result\n",
    "cross-walks of test dataset v.s. feature dataset."
   ]
  }
 ],
 "metadata": {
  "interpreter": {
   "hash": "916dbcbb3f70747c44a77c7bcd40155683ae19c65e1c03b4aa3499c5328201f1"
  },
  "kernelspec": {
   "display_name": "Python 3.9.9 64-bit",
   "language": "python",
   "name": "python3"
  },
  "language_info": {
   "codemirror_mode": {
    "name": "ipython",
    "version": 3
   },
   "file_extension": ".py",
   "mimetype": "text/x-python",
   "name": "python",
   "nbconvert_exporter": "python",
   "pygments_lexer": "ipython3",
   "version": "3.9.9"
  },
  "orig_nbformat": 4
 },
 "nbformat": 4,
 "nbformat_minor": 2
}
